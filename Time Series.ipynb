{
 "cells": [
  {
   "cell_type": "markdown",
   "id": "turkish-utility",
   "metadata": {},
   "source": [
    "# import packages"
   ]
  },
  {
   "cell_type": "code",
   "execution_count": 1,
   "id": "harmful-knitting",
   "metadata": {},
   "outputs": [],
   "source": [
    "import pandas as pd\n",
    "from dateutil.parser import parse\n",
    "import datetime\n",
    "import numpy as np\n",
    "import matplotlib.pyplot as plt\n",
    "import seaborn as sns\n",
    "%matplotlib inline"
   ]
  },
  {
   "cell_type": "markdown",
   "id": "difficult-narrative",
   "metadata": {},
   "source": [
    "# load data"
   ]
  },
  {
   "cell_type": "code",
   "execution_count": 2,
   "id": "congressional-pregnancy",
   "metadata": {},
   "outputs": [],
   "source": [
    "data=pd.read_excel('ASIANPAINT.xlsx',parse_dates=['Date'])"
   ]
  },
  {
   "cell_type": "code",
   "execution_count": 3,
   "id": "japanese-triumph",
   "metadata": {},
   "outputs": [
    {
     "data": {
      "text/html": [
       "<div>\n",
       "<style scoped>\n",
       "    .dataframe tbody tr th:only-of-type {\n",
       "        vertical-align: middle;\n",
       "    }\n",
       "\n",
       "    .dataframe tbody tr th {\n",
       "        vertical-align: top;\n",
       "    }\n",
       "\n",
       "    .dataframe thead th {\n",
       "        text-align: right;\n",
       "    }\n",
       "</style>\n",
       "<table border=\"1\" class=\"dataframe\">\n",
       "  <thead>\n",
       "    <tr style=\"text-align: right;\">\n",
       "      <th></th>\n",
       "      <th>Date</th>\n",
       "      <th>Open</th>\n",
       "      <th>High</th>\n",
       "      <th>Low</th>\n",
       "      <th>Close</th>\n",
       "      <th>Adj Close</th>\n",
       "      <th>Volume</th>\n",
       "    </tr>\n",
       "  </thead>\n",
       "  <tbody>\n",
       "    <tr>\n",
       "      <th>0</th>\n",
       "      <td>2012-01-02</td>\n",
       "      <td>256.000000</td>\n",
       "      <td>261.795013</td>\n",
       "      <td>256.000000</td>\n",
       "      <td>259.029999</td>\n",
       "      <td>239.618881</td>\n",
       "      <td>182450.0</td>\n",
       "    </tr>\n",
       "    <tr>\n",
       "      <th>1</th>\n",
       "      <td>2012-01-03</td>\n",
       "      <td>260.019989</td>\n",
       "      <td>266.000000</td>\n",
       "      <td>260.015015</td>\n",
       "      <td>265.230011</td>\n",
       "      <td>245.354233</td>\n",
       "      <td>174850.0</td>\n",
       "    </tr>\n",
       "    <tr>\n",
       "      <th>2</th>\n",
       "      <td>2012-01-04</td>\n",
       "      <td>261.904999</td>\n",
       "      <td>269.989990</td>\n",
       "      <td>261.904999</td>\n",
       "      <td>267.494995</td>\n",
       "      <td>247.449463</td>\n",
       "      <td>341860.0</td>\n",
       "    </tr>\n",
       "    <tr>\n",
       "      <th>3</th>\n",
       "      <td>2012-01-05</td>\n",
       "      <td>267.390015</td>\n",
       "      <td>269.095001</td>\n",
       "      <td>266.000000</td>\n",
       "      <td>267.170013</td>\n",
       "      <td>247.148880</td>\n",
       "      <td>719580.0</td>\n",
       "    </tr>\n",
       "    <tr>\n",
       "      <th>4</th>\n",
       "      <td>2012-01-06</td>\n",
       "      <td>264.804993</td>\n",
       "      <td>268.494995</td>\n",
       "      <td>264.510010</td>\n",
       "      <td>266.059998</td>\n",
       "      <td>246.121994</td>\n",
       "      <td>3815540.0</td>\n",
       "    </tr>\n",
       "  </tbody>\n",
       "</table>\n",
       "</div>"
      ],
      "text/plain": [
       "        Date        Open        High         Low       Close   Adj Close  \\\n",
       "0 2012-01-02  256.000000  261.795013  256.000000  259.029999  239.618881   \n",
       "1 2012-01-03  260.019989  266.000000  260.015015  265.230011  245.354233   \n",
       "2 2012-01-04  261.904999  269.989990  261.904999  267.494995  247.449463   \n",
       "3 2012-01-05  267.390015  269.095001  266.000000  267.170013  247.148880   \n",
       "4 2012-01-06  264.804993  268.494995  264.510010  266.059998  246.121994   \n",
       "\n",
       "      Volume  \n",
       "0   182450.0  \n",
       "1   174850.0  \n",
       "2   341860.0  \n",
       "3   719580.0  \n",
       "4  3815540.0  "
      ]
     },
     "execution_count": 3,
     "metadata": {},
     "output_type": "execute_result"
    }
   ],
   "source": [
    "data.head()"
   ]
  },
  {
   "cell_type": "markdown",
   "id": "hispanic-locator",
   "metadata": {},
   "source": [
    "# data cleaning"
   ]
  },
  {
   "cell_type": "code",
   "execution_count": 4,
   "id": "checked-trauma",
   "metadata": {},
   "outputs": [],
   "source": [
    "null_var=[feature for feature in data.columns if data[feature].isnull().sum()>0]"
   ]
  },
  {
   "cell_type": "code",
   "execution_count": 5,
   "id": "unnecessary-training",
   "metadata": {},
   "outputs": [
    {
     "name": "stdout",
     "output_type": "stream",
     "text": [
      "['Open', 'High', 'Low', 'Close', 'Adj Close', 'Volume']\n"
     ]
    }
   ],
   "source": [
    "print(null_var)"
   ]
  },
  {
   "cell_type": "code",
   "execution_count": 6,
   "id": "thrown-bahrain",
   "metadata": {},
   "outputs": [
    {
     "name": "stdout",
     "output_type": "stream",
     "text": [
      "Open 6\n",
      "High 6\n",
      "Low 6\n",
      "Close 6\n",
      "Adj Close 6\n",
      "Volume 6\n"
     ]
    }
   ],
   "source": [
    "for i in null_var:\n",
    "    print(i,data[i].isnull().sum())"
   ]
  },
  {
   "cell_type": "code",
   "execution_count": 7,
   "id": "threatened-intelligence",
   "metadata": {},
   "outputs": [
    {
     "name": "stdout",
     "output_type": "stream",
     "text": [
      "<class 'pandas.core.frame.DataFrame'>\n",
      "RangeIndex: 2471 entries, 0 to 2470\n",
      "Data columns (total 7 columns):\n",
      " #   Column     Non-Null Count  Dtype         \n",
      "---  ------     --------------  -----         \n",
      " 0   Date       2471 non-null   datetime64[ns]\n",
      " 1   Open       2465 non-null   float64       \n",
      " 2   High       2465 non-null   float64       \n",
      " 3   Low        2465 non-null   float64       \n",
      " 4   Close      2465 non-null   float64       \n",
      " 5   Adj Close  2465 non-null   float64       \n",
      " 6   Volume     2465 non-null   float64       \n",
      "dtypes: datetime64[ns](1), float64(6)\n",
      "memory usage: 135.3 KB\n"
     ]
    }
   ],
   "source": [
    "data.info()"
   ]
  },
  {
   "cell_type": "code",
   "execution_count": 8,
   "id": "medium-accident",
   "metadata": {},
   "outputs": [],
   "source": [
    "data.dropna(inplace=True)"
   ]
  },
  {
   "cell_type": "code",
   "execution_count": 9,
   "id": "greater-palestinian",
   "metadata": {},
   "outputs": [
    {
     "name": "stdout",
     "output_type": "stream",
     "text": [
      "<class 'pandas.core.frame.DataFrame'>\n",
      "Int64Index: 2465 entries, 0 to 2470\n",
      "Data columns (total 7 columns):\n",
      " #   Column     Non-Null Count  Dtype         \n",
      "---  ------     --------------  -----         \n",
      " 0   Date       2465 non-null   datetime64[ns]\n",
      " 1   Open       2465 non-null   float64       \n",
      " 2   High       2465 non-null   float64       \n",
      " 3   Low        2465 non-null   float64       \n",
      " 4   Close      2465 non-null   float64       \n",
      " 5   Adj Close  2465 non-null   float64       \n",
      " 6   Volume     2465 non-null   float64       \n",
      "dtypes: datetime64[ns](1), float64(6)\n",
      "memory usage: 154.1 KB\n"
     ]
    }
   ],
   "source": [
    "data.info()"
   ]
  },
  {
   "cell_type": "code",
   "execution_count": 10,
   "id": "potential-paris",
   "metadata": {},
   "outputs": [],
   "source": [
    "data['year']=[d.year for d in data.Date]\n",
    "data['month']=[d.strftime('%b') for d in data.Date]\n",
    "year=data.year.unique()"
   ]
  },
  {
   "cell_type": "code",
   "execution_count": 11,
   "id": "representative-talent",
   "metadata": {},
   "outputs": [
    {
     "data": {
      "text/html": [
       "<div>\n",
       "<style scoped>\n",
       "    .dataframe tbody tr th:only-of-type {\n",
       "        vertical-align: middle;\n",
       "    }\n",
       "\n",
       "    .dataframe tbody tr th {\n",
       "        vertical-align: top;\n",
       "    }\n",
       "\n",
       "    .dataframe thead th {\n",
       "        text-align: right;\n",
       "    }\n",
       "</style>\n",
       "<table border=\"1\" class=\"dataframe\">\n",
       "  <thead>\n",
       "    <tr style=\"text-align: right;\">\n",
       "      <th></th>\n",
       "      <th>Date</th>\n",
       "      <th>Open</th>\n",
       "      <th>High</th>\n",
       "      <th>Low</th>\n",
       "      <th>Close</th>\n",
       "      <th>Adj Close</th>\n",
       "      <th>Volume</th>\n",
       "      <th>year</th>\n",
       "      <th>month</th>\n",
       "    </tr>\n",
       "  </thead>\n",
       "  <tbody>\n",
       "    <tr>\n",
       "      <th>0</th>\n",
       "      <td>2012-01-02</td>\n",
       "      <td>256.000000</td>\n",
       "      <td>261.795013</td>\n",
       "      <td>256.000000</td>\n",
       "      <td>259.029999</td>\n",
       "      <td>239.618881</td>\n",
       "      <td>182450.0</td>\n",
       "      <td>2012</td>\n",
       "      <td>Jan</td>\n",
       "    </tr>\n",
       "    <tr>\n",
       "      <th>1</th>\n",
       "      <td>2012-01-03</td>\n",
       "      <td>260.019989</td>\n",
       "      <td>266.000000</td>\n",
       "      <td>260.015015</td>\n",
       "      <td>265.230011</td>\n",
       "      <td>245.354233</td>\n",
       "      <td>174850.0</td>\n",
       "      <td>2012</td>\n",
       "      <td>Jan</td>\n",
       "    </tr>\n",
       "    <tr>\n",
       "      <th>2</th>\n",
       "      <td>2012-01-04</td>\n",
       "      <td>261.904999</td>\n",
       "      <td>269.989990</td>\n",
       "      <td>261.904999</td>\n",
       "      <td>267.494995</td>\n",
       "      <td>247.449463</td>\n",
       "      <td>341860.0</td>\n",
       "      <td>2012</td>\n",
       "      <td>Jan</td>\n",
       "    </tr>\n",
       "    <tr>\n",
       "      <th>3</th>\n",
       "      <td>2012-01-05</td>\n",
       "      <td>267.390015</td>\n",
       "      <td>269.095001</td>\n",
       "      <td>266.000000</td>\n",
       "      <td>267.170013</td>\n",
       "      <td>247.148880</td>\n",
       "      <td>719580.0</td>\n",
       "      <td>2012</td>\n",
       "      <td>Jan</td>\n",
       "    </tr>\n",
       "    <tr>\n",
       "      <th>4</th>\n",
       "      <td>2012-01-06</td>\n",
       "      <td>264.804993</td>\n",
       "      <td>268.494995</td>\n",
       "      <td>264.510010</td>\n",
       "      <td>266.059998</td>\n",
       "      <td>246.121994</td>\n",
       "      <td>3815540.0</td>\n",
       "      <td>2012</td>\n",
       "      <td>Jan</td>\n",
       "    </tr>\n",
       "  </tbody>\n",
       "</table>\n",
       "</div>"
      ],
      "text/plain": [
       "        Date        Open        High         Low       Close   Adj Close  \\\n",
       "0 2012-01-02  256.000000  261.795013  256.000000  259.029999  239.618881   \n",
       "1 2012-01-03  260.019989  266.000000  260.015015  265.230011  245.354233   \n",
       "2 2012-01-04  261.904999  269.989990  261.904999  267.494995  247.449463   \n",
       "3 2012-01-05  267.390015  269.095001  266.000000  267.170013  247.148880   \n",
       "4 2012-01-06  264.804993  268.494995  264.510010  266.059998  246.121994   \n",
       "\n",
       "      Volume  year month  \n",
       "0   182450.0  2012   Jan  \n",
       "1   174850.0  2012   Jan  \n",
       "2   341860.0  2012   Jan  \n",
       "3   719580.0  2012   Jan  \n",
       "4  3815540.0  2012   Jan  "
      ]
     },
     "execution_count": 11,
     "metadata": {},
     "output_type": "execute_result"
    }
   ],
   "source": [
    "data.head()"
   ]
  },
  {
   "cell_type": "markdown",
   "id": "outstanding-messenger",
   "metadata": {},
   "source": [
    "# basic visualization "
   ]
  },
  {
   "cell_type": "code",
   "execution_count": 12,
   "id": "fleet-theta",
   "metadata": {},
   "outputs": [
    {
     "data": {
      "image/png": "[encoded data removed]",
      "text/plain": [
       "<Figure size 432x288 with 1 Axes>"
      ]
     },
     "metadata": {
      "needs_background": "light"
     },
     "output_type": "display_data"
    },
    {
     "data": {
      "text/plain": [
       "<Figure size 2000x800 with 0 Axes>"
      ]
     },
     "metadata": {},
     "output_type": "display_data"
    }
   ],
   "source": [
    "plt.plot(data['Date'],data['Close'])\n",
    "plt.xlabel('Date')\n",
    "plt.ylabel('Closing price')\n",
    "plt.title('daily close price')\n",
    "plt.figure(figsize=(25,10),dpi=80)\n",
    "plt.show()"
   ]
  },
  {
   "cell_type": "code",
   "execution_count": 75,
   "id": "affected-spotlight",
   "metadata": {},
   "outputs": [
    {
     "data": {
      "image/png": "[encoded data removed]",
      "text/plain": [
       "<Figure size 1080x504 with 1 Axes>"
      ]
     },
     "metadata": {
      "needs_background": "light"
     },
     "output_type": "display_data"
    }
   ],
   "source": [
    "plt.figure(figsize=(15,7))\n",
    "for i in year:\n",
    "    \n",
    "    data1=data.loc[data.year==i]\n",
    "    plt.plot(data1['month'],data1['Close'])\n",
    "    plt.gca().set(xlim=(-0.3,12),ylim=(200,3500))\n",
    "    plt.text(12,data1['Close'][-1:].values[0],i)\n",
    "plt.show()\n",
    "    "
   ]
  },
  {
   "cell_type": "code",
   "execution_count": 72,
   "id": "continental-oklahoma",
   "metadata": {},
   "outputs": [
    {
     "data": {
      "image/png": "[encoded data removed]",
      "text/plain": [
       "<Figure size 1440x504 with 2 Axes>"
      ]
     },
     "metadata": {
      "needs_background": "light"
     },
     "output_type": "display_data"
    }
   ],
   "source": [
    "plt.figure(figsize=(20,7))\n",
    "plt.subplot(1,2,1)\n",
    "sns.boxplot(x='year',y='Close',data=data) # trend\n",
    "plt.title('year wise trend')\n",
    "plt.subplot(1,2,2)\n",
    "sns.boxplot(x='month',y='Close',data=data) # seaonalilty\n",
    "plt.title('seaonality')\n",
    "plt.show()"
   ]
  },
  {
   "cell_type": "markdown",
   "id": "coastal-particular",
   "metadata": {},
   "source": [
    "# Patterns in a time series"
   ]
  },
  {
   "cell_type": "markdown",
   "id": "verified-poster",
   "metadata": {},
   "source": [
    "### Any time series may be split into the following components: Base Level + Trend + Seasonality + Error \n",
    "#### A trend is observed when there is an increasing or decreasing slope observed in the time series.\n",
    "#### Whereas seasonality is observed when there is a distinct repeated pattern observed between regular intervals due to seasonal factors. It could be because of the month of the year, the day of the month, weekdays or even time of the day. However, It is not mandatory that all time series must have a trend and/or seasonality.\n",
    "#### A time series may not have a distinct trend but have a seasonality. The opposite can also be true. So, a time series may be imagined as a combination of the trend, seasonality and the error terms."
   ]
  },
  {
   "cell_type": "markdown",
   "id": "going-hundred",
   "metadata": {},
   "source": [
    "## Additive and multiplicative time series"
   ]
  },
  {
   "cell_type": "code",
   "execution_count": 76,
   "id": "built-fortune",
   "metadata": {},
   "outputs": [],
   "source": [
    "from statsmodels.tsa.seasonal import seasonal_decompose"
   ]
  },
  {
   "cell_type": "code",
   "execution_count": 118,
   "id": "talented-athletics",
   "metadata": {},
   "outputs": [],
   "source": [
    "# multiplicative decomposition\n",
    "data2=data.copy()\n",
    "data2.set_index('Date')\n",
    "\n",
    "result_mul=seasonal_decompose(data2['Close'],model='multiplicative', period=5,extrapolate_trend='freq')\n",
    "result_add=seasonal_decompose(data2['Close'], period=5,extrapolate_trend='freq')"
   ]
  },
  {
   "cell_type": "code",
   "execution_count": 119,
   "id": "governmental-initial",
   "metadata": {},
   "outputs": [
    {
     "data": {
      "text/plain": [
       "Text(0.5, 0.98, 'additive decompose')"
      ]
     },
     "execution_count": 119,
     "metadata": {},
     "output_type": "execute_result"
    },
    {
     "data": {
      "text/plain": [
       "<Figure size 720x504 with 0 Axes>"
      ]
     },
     "metadata": {},
     "output_type": "display_data"
    },
    {
     "data": {
      "image/png": "[encoded data removed]",
      "text/plain": [
       "<Figure size 720x504 with 4 Axes>"
      ]
     },
     "metadata": {
      "needs_background": "light"
     },
     "output_type": "display_data"
    },
    {
     "data": {
      "image/png": "[encoded data removed]",
      "text/plain": [
       "<Figure size 720x504 with 4 Axes>"
      ]
     },
     "metadata": {
      "needs_background": "light"
     },
     "output_type": "display_data"
    }
   ],
   "source": [
    "plt.figure(figsize=(10,7))\n",
    "#plt.subplot(1,2,1)\n",
    "result_mul.plot().suptitle('multiplicative decompose',fontsize=22)\n",
    "#plt.subplot(1,2,2)\n",
    "result_add.plot().suptitle('additive decompose',fontsize=22)"
   ]
  },
  {
   "cell_type": "code",
   "execution_count": 120,
   "id": "intense-fitting",
   "metadata": {},
   "outputs": [],
   "source": [
    "res_mul=pd.concat([result_mul.seasonal,result_mul.trend,result_mul.resid,result_mul.observed],axis=1)\n",
    "res_mul.columns=['seasonal','trend','resid','observed']"
   ]
  },
  {
   "cell_type": "code",
   "execution_count": 121,
   "id": "timely-jones",
   "metadata": {},
   "outputs": [
    {
     "data": {
      "text/html": [
       "<div>\n",
       "<style scoped>\n",
       "    .dataframe tbody tr th:only-of-type {\n",
       "        vertical-align: middle;\n",
       "    }\n",
       "\n",
       "    .dataframe tbody tr th {\n",
       "        vertical-align: top;\n",
       "    }\n",
       "\n",
       "    .dataframe thead th {\n",
       "        text-align: right;\n",
       "    }\n",
       "</style>\n",
       "<table border=\"1\" class=\"dataframe\">\n",
       "  <thead>\n",
       "    <tr style=\"text-align: right;\">\n",
       "      <th></th>\n",
       "      <th>seasonal</th>\n",
       "      <th>trend</th>\n",
       "      <th>resid</th>\n",
       "      <th>observed</th>\n",
       "    </tr>\n",
       "  </thead>\n",
       "  <tbody>\n",
       "    <tr>\n",
       "      <th>0</th>\n",
       "      <td>0.999880</td>\n",
       "      <td>263.445205</td>\n",
       "      <td>0.983358</td>\n",
       "      <td>259.029999</td>\n",
       "    </tr>\n",
       "    <tr>\n",
       "      <th>1</th>\n",
       "      <td>1.000993</td>\n",
       "      <td>264.343005</td>\n",
       "      <td>1.002361</td>\n",
       "      <td>265.230011</td>\n",
       "    </tr>\n",
       "    <tr>\n",
       "      <th>2</th>\n",
       "      <td>1.000375</td>\n",
       "      <td>264.997003</td>\n",
       "      <td>1.009049</td>\n",
       "      <td>267.494995</td>\n",
       "    </tr>\n",
       "    <tr>\n",
       "      <th>3</th>\n",
       "      <td>0.999633</td>\n",
       "      <td>266.706006</td>\n",
       "      <td>1.002108</td>\n",
       "      <td>267.170013</td>\n",
       "    </tr>\n",
       "    <tr>\n",
       "      <th>4</th>\n",
       "      <td>0.999120</td>\n",
       "      <td>266.791003</td>\n",
       "      <td>0.998139</td>\n",
       "      <td>266.059998</td>\n",
       "    </tr>\n",
       "    <tr>\n",
       "      <th>...</th>\n",
       "      <td>...</td>\n",
       "      <td>...</td>\n",
       "      <td>...</td>\n",
       "      <td>...</td>\n",
       "    </tr>\n",
       "    <tr>\n",
       "      <th>2466</th>\n",
       "      <td>0.999880</td>\n",
       "      <td>3312.149951</td>\n",
       "      <td>0.988117</td>\n",
       "      <td>3272.399902</td>\n",
       "    </tr>\n",
       "    <tr>\n",
       "      <th>2467</th>\n",
       "      <td>1.000993</td>\n",
       "      <td>3331.709961</td>\n",
       "      <td>1.009950</td>\n",
       "      <td>3368.199951</td>\n",
       "    </tr>\n",
       "    <tr>\n",
       "      <th>2468</th>\n",
       "      <td>1.000375</td>\n",
       "      <td>3351.339941</td>\n",
       "      <td>1.004431</td>\n",
       "      <td>3367.449951</td>\n",
       "    </tr>\n",
       "    <tr>\n",
       "      <th>2469</th>\n",
       "      <td>0.999633</td>\n",
       "      <td>3361.641914</td>\n",
       "      <td>1.001575</td>\n",
       "      <td>3365.699951</td>\n",
       "    </tr>\n",
       "    <tr>\n",
       "      <th>2470</th>\n",
       "      <td>0.999120</td>\n",
       "      <td>3377.923896</td>\n",
       "      <td>1.002370</td>\n",
       "      <td>3382.949951</td>\n",
       "    </tr>\n",
       "  </tbody>\n",
       "</table>\n",
       "<p>2465 rows × 4 columns</p>\n",
       "</div>"
      ],
      "text/plain": [
       "      seasonal        trend     resid     observed\n",
       "0     0.999880   263.445205  0.983358   259.029999\n",
       "1     1.000993   264.343005  1.002361   265.230011\n",
       "2     1.000375   264.997003  1.009049   267.494995\n",
       "3     0.999633   266.706006  1.002108   267.170013\n",
       "4     0.999120   266.791003  0.998139   266.059998\n",
       "...        ...          ...       ...          ...\n",
       "2466  0.999880  3312.149951  0.988117  3272.399902\n",
       "2467  1.000993  3331.709961  1.009950  3368.199951\n",
       "2468  1.000375  3351.339941  1.004431  3367.449951\n",
       "2469  0.999633  3361.641914  1.001575  3365.699951\n",
       "2470  0.999120  3377.923896  1.002370  3382.949951\n",
       "\n",
       "[2465 rows x 4 columns]"
      ]
     },
     "execution_count": 121,
     "metadata": {},
     "output_type": "execute_result"
    }
   ],
   "source": [
    "res_mul"
   ]
  },
  {
   "cell_type": "code",
   "execution_count": 122,
   "id": "british-imperial",
   "metadata": {},
   "outputs": [],
   "source": [
    "res_add=pd.concat([result_add.seasonal,result_add.trend,result_add.resid,result_add.observed],axis=1)\n",
    "res_add.columns=['seasonal','trend','resid','observed']"
   ]
  },
  {
   "cell_type": "code",
   "execution_count": 123,
   "id": "mexican-shakespeare",
   "metadata": {},
   "outputs": [
    {
     "data": {
      "text/html": [
       "<div>\n",
       "<style scoped>\n",
       "    .dataframe tbody tr th:only-of-type {\n",
       "        vertical-align: middle;\n",
       "    }\n",
       "\n",
       "    .dataframe tbody tr th {\n",
       "        vertical-align: top;\n",
       "    }\n",
       "\n",
       "    .dataframe thead th {\n",
       "        text-align: right;\n",
       "    }\n",
       "</style>\n",
       "<table border=\"1\" class=\"dataframe\">\n",
       "  <thead>\n",
       "    <tr style=\"text-align: right;\">\n",
       "      <th></th>\n",
       "      <th>seasonal</th>\n",
       "      <th>trend</th>\n",
       "      <th>resid</th>\n",
       "      <th>observed</th>\n",
       "    </tr>\n",
       "  </thead>\n",
       "  <tbody>\n",
       "    <tr>\n",
       "      <th>0</th>\n",
       "      <td>-0.280670</td>\n",
       "      <td>263.445205</td>\n",
       "      <td>-4.134536</td>\n",
       "      <td>259.029999</td>\n",
       "    </tr>\n",
       "    <tr>\n",
       "      <th>1</th>\n",
       "      <td>1.203925</td>\n",
       "      <td>264.343005</td>\n",
       "      <td>-0.316919</td>\n",
       "      <td>265.230011</td>\n",
       "    </tr>\n",
       "    <tr>\n",
       "      <th>2</th>\n",
       "      <td>0.401741</td>\n",
       "      <td>264.997003</td>\n",
       "      <td>2.096250</td>\n",
       "      <td>267.494995</td>\n",
       "    </tr>\n",
       "    <tr>\n",
       "      <th>3</th>\n",
       "      <td>-0.303136</td>\n",
       "      <td>266.706006</td>\n",
       "      <td>0.767144</td>\n",
       "      <td>267.170013</td>\n",
       "    </tr>\n",
       "    <tr>\n",
       "      <th>4</th>\n",
       "      <td>-1.021860</td>\n",
       "      <td>266.791003</td>\n",
       "      <td>0.290855</td>\n",
       "      <td>266.059998</td>\n",
       "    </tr>\n",
       "    <tr>\n",
       "      <th>...</th>\n",
       "      <td>...</td>\n",
       "      <td>...</td>\n",
       "      <td>...</td>\n",
       "      <td>...</td>\n",
       "    </tr>\n",
       "    <tr>\n",
       "      <th>2466</th>\n",
       "      <td>-0.280670</td>\n",
       "      <td>3312.149951</td>\n",
       "      <td>-39.469379</td>\n",
       "      <td>3272.399902</td>\n",
       "    </tr>\n",
       "    <tr>\n",
       "      <th>2467</th>\n",
       "      <td>1.203925</td>\n",
       "      <td>3331.709961</td>\n",
       "      <td>35.286065</td>\n",
       "      <td>3368.199951</td>\n",
       "    </tr>\n",
       "    <tr>\n",
       "      <th>2468</th>\n",
       "      <td>0.401741</td>\n",
       "      <td>3351.339941</td>\n",
       "      <td>15.708268</td>\n",
       "      <td>3367.449951</td>\n",
       "    </tr>\n",
       "    <tr>\n",
       "      <th>2469</th>\n",
       "      <td>-0.303136</td>\n",
       "      <td>3361.641914</td>\n",
       "      <td>4.361174</td>\n",
       "      <td>3365.699951</td>\n",
       "    </tr>\n",
       "    <tr>\n",
       "      <th>2470</th>\n",
       "      <td>-1.021860</td>\n",
       "      <td>3377.923896</td>\n",
       "      <td>6.047915</td>\n",
       "      <td>3382.949951</td>\n",
       "    </tr>\n",
       "  </tbody>\n",
       "</table>\n",
       "<p>2465 rows × 4 columns</p>\n",
       "</div>"
      ],
      "text/plain": [
       "      seasonal        trend      resid     observed\n",
       "0    -0.280670   263.445205  -4.134536   259.029999\n",
       "1     1.203925   264.343005  -0.316919   265.230011\n",
       "2     0.401741   264.997003   2.096250   267.494995\n",
       "3    -0.303136   266.706006   0.767144   267.170013\n",
       "4    -1.021860   266.791003   0.290855   266.059998\n",
       "...        ...          ...        ...          ...\n",
       "2466 -0.280670  3312.149951 -39.469379  3272.399902\n",
       "2467  1.203925  3331.709961  35.286065  3368.199951\n",
       "2468  0.401741  3351.339941  15.708268  3367.449951\n",
       "2469 -0.303136  3361.641914   4.361174  3365.699951\n",
       "2470 -1.021860  3377.923896   6.047915  3382.949951\n",
       "\n",
       "[2465 rows x 4 columns]"
      ]
     },
     "execution_count": 123,
     "metadata": {},
     "output_type": "execute_result"
    }
   ],
   "source": [
    "res_add"
   ]
  },
  {
   "cell_type": "markdown",
   "id": "flexible-proposal",
   "metadata": {},
   "source": [
    "# Stationary and Non-Stationary Time Series\n",
    "## Stationarity is a property of a time series. A stationary series is one where the values of the series is not a function of time. \n",
    "\n",
    "## Unit Root tests like:\n",
    "\n",
    "- Augmented Dickey Fuller test (ADH Test)\n",
    "- Kwiatkowski-Phillips-Schmidt-Shin – KPSS test (trend stationary)\n",
    "- Philips Perron test (PP Test)"
   ]
  },
  {
   "cell_type": "code",
   "execution_count": 124,
   "id": "color-clock",
   "metadata": {},
   "outputs": [],
   "source": [
    "from statsmodels.tsa.stattools import adfuller, kpss"
   ]
  },
  {
   "cell_type": "code",
   "execution_count": 127,
   "id": "greater-circle",
   "metadata": {},
   "outputs": [
    {
     "name": "stderr",
     "output_type": "stream",
     "text": [
      "c:\\users\\revei\\appdata\\local\\programs\\python\\python39\\lib\\site-packages\\statsmodels\\tsa\\stattools.py:1875: FutureWarning: The behavior of using nlags=None will change in release 0.13.Currently nlags=None is the same as nlags=\"legacy\", and so a sample-size lag length is used. After the next release, the default will change to be the same as nlags=\"auto\" which uses an automatic lag length selection method. To silence this warning, either use \"auto\" or \"legacy\"\n",
      "  warnings.warn(msg, FutureWarning)\n",
      "c:\\users\\revei\\appdata\\local\\programs\\python\\python39\\lib\\site-packages\\statsmodels\\tsa\\stattools.py:1906: InterpolationWarning: The test statistic is outside of the range of p-values available in the\n",
      "look-up table. The actual p-value is smaller than the p-value returned.\n",
      "\n",
      "  warnings.warn(\n"
     ]
    }
   ],
   "source": [
    "adf_res=adfuller(data.Close.values)\n",
    "kpss_res=kpss(data.Close.values)"
   ]
  },
  {
   "cell_type": "code",
   "execution_count": 126,
   "id": "corrected-nelson",
   "metadata": {
    "scrolled": true
   },
   "outputs": [
    {
     "name": "stdout",
     "output_type": "stream",
     "text": [
      "(2.0219553681845444, 0.9987008094961349, 20, 2444, {'1%': -3.4330284703548064, '5%': -2.86272332205779, '10%': -2.5673999301740325}, 22336.33735541471)\n"
     ]
    }
   ],
   "source": [
    "print(adf_res)"
   ]
  },
  {
   "cell_type": "code",
   "execution_count": 130,
   "id": "unnecessary-family",
   "metadata": {},
   "outputs": [
    {
     "name": "stdout",
     "output_type": "stream",
     "text": [
      "(7.480557458727152, 0.01, 27, {'10%': 0.347, '5%': 0.463, '2.5%': 0.574, '1%': 0.739})\n"
     ]
    }
   ],
   "source": [
    "print(kpss_res)"
   ]
  },
  {
   "cell_type": "markdown",
   "id": "digital-vanilla",
   "metadata": {},
   "source": [
    "# Granger Causality test to know if one time series is helpful in forecasting another?"
   ]
  },
  {
   "cell_type": "code",
   "execution_count": 154,
   "id": "legitimate-calendar",
   "metadata": {},
   "outputs": [],
   "source": [
    "from statsmodels.tsa.stattools import grangercausalitytests\n",
    "import datetime\n",
    "data['months']=data.Date.dt.month"
   ]
  },
  {
   "cell_type": "code",
   "execution_count": 155,
   "id": "stopped-sender",
   "metadata": {},
   "outputs": [
    {
     "name": "stdout",
     "output_type": "stream",
     "text": [
      "\n",
      "Granger Causality\n",
      "number of lags (no zero) 1\n",
      "ssr based F test:         F=1.2874  , p=0.2566  , df_denom=2461, df_num=1\n",
      "ssr based chi2 test:   chi2=1.2890  , p=0.2562  , df=1\n",
      "likelihood ratio test: chi2=1.2886  , p=0.2563  , df=1\n",
      "parameter F test:         F=1.2874  , p=0.2566  , df_denom=2461, df_num=1\n",
      "\n",
      "Granger Causality\n",
      "number of lags (no zero) 2\n",
      "ssr based F test:         F=0.7140  , p=0.4898  , df_denom=2458, df_num=2\n",
      "ssr based chi2 test:   chi2=1.4310  , p=0.4890  , df=2\n",
      "likelihood ratio test: chi2=1.4305  , p=0.4891  , df=2\n",
      "parameter F test:         F=0.7140  , p=0.4898  , df_denom=2458, df_num=2\n"
     ]
    }
   ],
   "source": [
    "test_res=grangercausalitytests(data[['Close','months']],maxlag=2) # if p>0.05 not suitable for forcasting"
   ]
  },
  {
   "cell_type": "code",
   "execution_count": 156,
   "id": "chemical-marine",
   "metadata": {},
   "outputs": [
    {
     "data": {
      "text/html": [
       "<div>\n",
       "<style scoped>\n",
       "    .dataframe tbody tr th:only-of-type {\n",
       "        vertical-align: middle;\n",
       "    }\n",
       "\n",
       "    .dataframe tbody tr th {\n",
       "        vertical-align: top;\n",
       "    }\n",
       "\n",
       "    .dataframe thead th {\n",
       "        text-align: right;\n",
       "    }\n",
       "</style>\n",
       "<table border=\"1\" class=\"dataframe\">\n",
       "  <thead>\n",
       "    <tr style=\"text-align: right;\">\n",
       "      <th></th>\n",
       "      <th>Date</th>\n",
       "      <th>Open</th>\n",
       "      <th>High</th>\n",
       "      <th>Low</th>\n",
       "      <th>Close</th>\n",
       "      <th>Adj Close</th>\n",
       "      <th>Volume</th>\n",
       "      <th>year</th>\n",
       "      <th>month</th>\n",
       "      <th>months</th>\n",
       "    </tr>\n",
       "  </thead>\n",
       "  <tbody>\n",
       "    <tr>\n",
       "      <th>0</th>\n",
       "      <td>2012-01-02</td>\n",
       "      <td>256.000000</td>\n",
       "      <td>261.795013</td>\n",
       "      <td>256.000000</td>\n",
       "      <td>259.029999</td>\n",
       "      <td>239.618881</td>\n",
       "      <td>182450.0</td>\n",
       "      <td>2012</td>\n",
       "      <td>Jan</td>\n",
       "      <td>1</td>\n",
       "    </tr>\n",
       "    <tr>\n",
       "      <th>1</th>\n",
       "      <td>2012-01-03</td>\n",
       "      <td>260.019989</td>\n",
       "      <td>266.000000</td>\n",
       "      <td>260.015015</td>\n",
       "      <td>265.230011</td>\n",
       "      <td>245.354233</td>\n",
       "      <td>174850.0</td>\n",
       "      <td>2012</td>\n",
       "      <td>Jan</td>\n",
       "      <td>1</td>\n",
       "    </tr>\n",
       "    <tr>\n",
       "      <th>2</th>\n",
       "      <td>2012-01-04</td>\n",
       "      <td>261.904999</td>\n",
       "      <td>269.989990</td>\n",
       "      <td>261.904999</td>\n",
       "      <td>267.494995</td>\n",
       "      <td>247.449463</td>\n",
       "      <td>341860.0</td>\n",
       "      <td>2012</td>\n",
       "      <td>Jan</td>\n",
       "      <td>1</td>\n",
       "    </tr>\n",
       "    <tr>\n",
       "      <th>3</th>\n",
       "      <td>2012-01-05</td>\n",
       "      <td>267.390015</td>\n",
       "      <td>269.095001</td>\n",
       "      <td>266.000000</td>\n",
       "      <td>267.170013</td>\n",
       "      <td>247.148880</td>\n",
       "      <td>719580.0</td>\n",
       "      <td>2012</td>\n",
       "      <td>Jan</td>\n",
       "      <td>1</td>\n",
       "    </tr>\n",
       "    <tr>\n",
       "      <th>4</th>\n",
       "      <td>2012-01-06</td>\n",
       "      <td>264.804993</td>\n",
       "      <td>268.494995</td>\n",
       "      <td>264.510010</td>\n",
       "      <td>266.059998</td>\n",
       "      <td>246.121994</td>\n",
       "      <td>3815540.0</td>\n",
       "      <td>2012</td>\n",
       "      <td>Jan</td>\n",
       "      <td>1</td>\n",
       "    </tr>\n",
       "    <tr>\n",
       "      <th>...</th>\n",
       "      <td>...</td>\n",
       "      <td>...</td>\n",
       "      <td>...</td>\n",
       "      <td>...</td>\n",
       "      <td>...</td>\n",
       "      <td>...</td>\n",
       "      <td>...</td>\n",
       "      <td>...</td>\n",
       "      <td>...</td>\n",
       "      <td>...</td>\n",
       "    </tr>\n",
       "    <tr>\n",
       "      <th>2466</th>\n",
       "      <td>2021-12-27</td>\n",
       "      <td>3280.100098</td>\n",
       "      <td>3284.750000</td>\n",
       "      <td>3226.199951</td>\n",
       "      <td>3272.399902</td>\n",
       "      <td>3272.399902</td>\n",
       "      <td>640701.0</td>\n",
       "      <td>2021</td>\n",
       "      <td>Dec</td>\n",
       "      <td>12</td>\n",
       "    </tr>\n",
       "    <tr>\n",
       "      <th>2467</th>\n",
       "      <td>2021-12-28</td>\n",
       "      <td>3275.949951</td>\n",
       "      <td>3375.000000</td>\n",
       "      <td>3273.000000</td>\n",
       "      <td>3368.199951</td>\n",
       "      <td>3368.199951</td>\n",
       "      <td>1211648.0</td>\n",
       "      <td>2021</td>\n",
       "      <td>Dec</td>\n",
       "      <td>12</td>\n",
       "    </tr>\n",
       "    <tr>\n",
       "      <th>2468</th>\n",
       "      <td>2021-12-29</td>\n",
       "      <td>3372.199951</td>\n",
       "      <td>3386.000000</td>\n",
       "      <td>3346.199951</td>\n",
       "      <td>3367.449951</td>\n",
       "      <td>3367.449951</td>\n",
       "      <td>598421.0</td>\n",
       "      <td>2021</td>\n",
       "      <td>Dec</td>\n",
       "      <td>12</td>\n",
       "    </tr>\n",
       "    <tr>\n",
       "      <th>2469</th>\n",
       "      <td>2021-12-30</td>\n",
       "      <td>3363.250000</td>\n",
       "      <td>3390.000000</td>\n",
       "      <td>3350.300049</td>\n",
       "      <td>3365.699951</td>\n",
       "      <td>3365.699951</td>\n",
       "      <td>691223.0</td>\n",
       "      <td>2021</td>\n",
       "      <td>Dec</td>\n",
       "      <td>12</td>\n",
       "    </tr>\n",
       "    <tr>\n",
       "      <th>2470</th>\n",
       "      <td>2021-12-31</td>\n",
       "      <td>3390.000000</td>\n",
       "      <td>3405.000000</td>\n",
       "      <td>3361.399902</td>\n",
       "      <td>3382.949951</td>\n",
       "      <td>3382.949951</td>\n",
       "      <td>570671.0</td>\n",
       "      <td>2021</td>\n",
       "      <td>Dec</td>\n",
       "      <td>12</td>\n",
       "    </tr>\n",
       "  </tbody>\n",
       "</table>\n",
       "<p>2465 rows × 10 columns</p>\n",
       "</div>"
      ],
      "text/plain": [
       "           Date         Open         High          Low        Close  \\\n",
       "0    2012-01-02   256.000000   261.795013   256.000000   259.029999   \n",
       "1    2012-01-03   260.019989   266.000000   260.015015   265.230011   \n",
       "2    2012-01-04   261.904999   269.989990   261.904999   267.494995   \n",
       "3    2012-01-05   267.390015   269.095001   266.000000   267.170013   \n",
       "4    2012-01-06   264.804993   268.494995   264.510010   266.059998   \n",
       "...         ...          ...          ...          ...          ...   \n",
       "2466 2021-12-27  3280.100098  3284.750000  3226.199951  3272.399902   \n",
       "2467 2021-12-28  3275.949951  3375.000000  3273.000000  3368.199951   \n",
       "2468 2021-12-29  3372.199951  3386.000000  3346.199951  3367.449951   \n",
       "2469 2021-12-30  3363.250000  3390.000000  3350.300049  3365.699951   \n",
       "2470 2021-12-31  3390.000000  3405.000000  3361.399902  3382.949951   \n",
       "\n",
       "        Adj Close     Volume  year month  months  \n",
       "0      239.618881   182450.0  2012   Jan       1  \n",
       "1      245.354233   174850.0  2012   Jan       1  \n",
       "2      247.449463   341860.0  2012   Jan       1  \n",
       "3      247.148880   719580.0  2012   Jan       1  \n",
       "4      246.121994  3815540.0  2012   Jan       1  \n",
       "...           ...        ...   ...   ...     ...  \n",
       "2466  3272.399902   640701.0  2021   Dec      12  \n",
       "2467  3368.199951  1211648.0  2021   Dec      12  \n",
       "2468  3367.449951   598421.0  2021   Dec      12  \n",
       "2469  3365.699951   691223.0  2021   Dec      12  \n",
       "2470  3382.949951   570671.0  2021   Dec      12  \n",
       "\n",
       "[2465 rows x 10 columns]"
      ]
     },
     "execution_count": 156,
     "metadata": {},
     "output_type": "execute_result"
    }
   ],
   "source": [
    "data"
   ]
  },
  {
   "cell_type": "code",
   "execution_count": null,
   "id": "accepting-mounting",
   "metadata": {},
   "outputs": [],
   "source": []
  },
  {
   "cell_type": "code",
   "execution_count": null,
   "id": "affected-singles",
   "metadata": {},
   "outputs": [],
   "source": []
  },
  {
   "cell_type": "code",
   "execution_count": null,
   "id": "analyzed-search",
   "metadata": {},
   "outputs": [],
   "source": []
  }
 ],
 "metadata": {
  "kernelspec": {
   "display_name": "Python 3",
   "language": "python",
   "name": "python3"
  },
  "language_info": {
   "codemirror_mode": {
    "name": "ipython",
    "version": 3
   },
   "file_extension": ".py",
   "mimetype": "text/x-python",
   "name": "python",
   "nbconvert_exporter": "python",
   "pygments_lexer": "ipython3",
   "version": "3.9.2"
  }
 },
 "nbformat": 4,
 "nbformat_minor": 5
}
